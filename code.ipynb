{
 "cells": [
  {
   "cell_type": "code",
   "execution_count": 1,
   "metadata": {},
   "outputs": [],
   "source": [
    "import urllib.request, urllib.error, urllib.parse\n",
    "import json\n",
    "from bs4 import BeautifulSoup as bs\n",
    "from selenium import webdriver\n",
    "path=\"chromedriver.exe\"\n",
    "\n",
    "import time\n",
    "import random\n",
    "from bs4 import BeautifulSoup as bs\n",
    "from selenium import webdriver\n",
    "from selenium.webdriver.chrome.options import Options\n",
    "chrome_options = Options()\n",
    "#chrome_options.add_argument('--headless')\n",
    "chrome_options.add_argument('--no-sandbox')\n",
    "chrome_options.add_argument('--disable-dev-shm-usage')"
   ]
  },
  {
   "cell_type": "code",
   "execution_count": 5,
   "metadata": {},
   "outputs": [],
   "source": [
    "# create empty lists for storing data\n",
    "author = []\n",
    "quote = []\n",
    "tags = []\n",
    "url = 'http://quotes.toscrape.com/js/'\n",
    "link = [1] # assign junk value to list to enter the loop\n",
    "while link: # run the loop till next button is found\n",
    "    driver = webdriver.Chrome(path)\n",
    "    driver.get(url) # Start the browser and open 'url'\n",
    "    \n",
    "    assert 'Quotes to Scrape' in driver.title # Wait for the page to load\n",
    "    #time.sleep(random.uniform(1,5))\n",
    "    q_list = driver.find_elements_by_class_name('text') # find quotes\n",
    "    for i in q_list:\n",
    "        quote.append(i.text)\n",
    "    a_list = driver.find_elements_by_class_name('author') #find authors\n",
    "    for i in a_list:\n",
    "        author.append(i.text)\n",
    "    t_list = driver.find_elements_by_class_name('tags') #find tags\n",
    "    for i in t_list:\n",
    "        tags.append(i.text)\n",
    "    link = driver.find_elements_by_partial_link_text('Next') # find links to next page\n",
    "    if link:\n",
    "        url = link[0].get_attribute('href') # update url for next iteration\n",
    "    driver.quit() # close the driver\n",
    "\n",
    "    "
   ]
  },
  {
   "cell_type": "code",
   "execution_count": 6,
   "metadata": {},
   "outputs": [],
   "source": [
    "# clean data for getting desired format\n",
    "for i in range(0, len(tags)):\n",
    "    tags[i] = tags[i].replace('Tags:', '')\n",
    "    tags[i] = tags[i].strip()\n",
    "    tags[i] = tags[i].replace(' ', '|')\n",
    "    quote[i] = quote[i].strip('“')\n",
    "    quote[i] = quote[i].strip('”')"
   ]
  },
  {
   "cell_type": "code",
   "execution_count": 7,
   "metadata": {},
   "outputs": [],
   "source": [
    "# write the scraped data to csv file\n",
    "import csv\n",
    "with open('hw5.csv', mode='w', encoding=\"utf-8-sig\") as output_file:\n",
    "    output_writer = csv.writer(output_file, delimiter=',', lineterminator='\\n')\n",
    "    output_writer.writerow(['Author', 'Quote', 'Tags'])\n",
    "    for x in range(0, len(author)):\n",
    "        myData = [author[x], quote[x], tags[x]]\n",
    "        output_writer.writerow(myData), "
   ]
  },
  {
   "cell_type": "code",
   "execution_count": null,
   "metadata": {},
   "outputs": [],
   "source": []
  }
 ],
 "metadata": {
  "kernelspec": {
   "display_name": "Python 3",
   "language": "python",
   "name": "python3"
  },
  "language_info": {
   "codemirror_mode": {
    "name": "ipython",
    "version": 3
   },
   "file_extension": ".py",
   "mimetype": "text/x-python",
   "name": "python",
   "nbconvert_exporter": "python",
   "pygments_lexer": "ipython3",
   "version": "3.7.3"
  }
 },
 "nbformat": 4,
 "nbformat_minor": 2
}
